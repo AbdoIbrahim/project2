{
  "nbformat": 4,
  "nbformat_minor": 0,
  "metadata": {
    "colab": {
      "provenance": [],
      "authorship_tag": "ABX9TyPLEWmD5QAu81JdsAdhA07O",
      "include_colab_link": true
    },
    "kernelspec": {
      "name": "python3",
      "display_name": "Python 3"
    },
    "language_info": {
      "name": "python"
    }
  },
  "cells": [
    {
      "cell_type": "markdown",
      "metadata": {
        "id": "view-in-github",
        "colab_type": "text"
      },
      "source": [
        "<a href=\"https://colab.research.google.com/github/AbdoIbrahim/project2/blob/main/Project_2_Part_2(Core).ipynb\" target=\"_parent\"><img src=\"https://colab.research.google.com/assets/colab-badge.svg\" alt=\"Open In Colab\"/></a>"
      ]
    },
    {
      "cell_type": "markdown",
      "source": [
        "#Project 2 - Part 2 (Core)\n",
        "Using the approved dataset you proposed for project 2 part 1 last week, you will clean and explore the data set.  \n",
        "\n",
        "To meet the requirements for this week you must have:\n",
        "\n",
        "- deleted unnecessary columns [x]\n",
        "\n",
        "- deleted duplicate rows [x]\n",
        "\n",
        "- identified and addressed missing values [x] \n",
        "\n",
        "- identified and corrected inconsistencies in data for categorical values (i.e. Cat, cat, cats) [x]\n",
        "\n",
        "- produced univariate visuals for the target and all features [x]\n",
        "\n",
        "- identified outliers\n",
        "[x]\n",
        "- clearly commented all of your cleaning steps and described any decisions you made  \n",
        "[x]\n",
        "Commit your file to your Github repository and submit the link below.\n"
      ],
      "metadata": {
        "id": "cLQSL3yDZb7_"
      }
    },
    {
      "cell_type": "markdown",
      "source": [
        "###Import Libraries "
      ],
      "metadata": {
        "id": "1DVG0T_eHuFz"
      }
    },
    {
      "cell_type": "code",
      "source": [
        "#Import Libraries \n",
        "import pandas as pd \n",
        "import numpy as np \n",
        "import matplotlib.pyplot as plt\n",
        "import seaborn as sns \n",
        "from sklearn.model_selection import train_test_split\n",
        "from sklearn.compose import make_column_selector \n",
        "from sklearn.preprocessing import OneHotEncoder, StandardScaler\n",
        "from sklearn.compose import make_column_transformer, make_column_selector\n",
        "from sklearn.pipeline import make_pipeline\n",
        "from sklearn.impute import SimpleImputer"
      ],
      "metadata": {
        "id": "yBiUMUhHa1-H"
      },
      "execution_count": 1,
      "outputs": []
    },
    {
      "cell_type": "markdown",
      "source": [
        "###Load Data "
      ],
      "metadata": {
        "id": "jHcWEBLgHxIX"
      }
    },
    {
      "cell_type": "code",
      "source": [
        "#load data\n",
        "path = '/content/heart.csv'\n",
        "df = pd.read_csv(path)\n",
        "df.head()"
      ],
      "metadata": {
        "colab": {
          "base_uri": "https://localhost:8080/",
          "height": 270
        },
        "id": "aPXyzt5ecY_x",
        "outputId": "f3c09430-656f-406b-d6f4-c3e6e89dde3b"
      },
      "execution_count": 2,
      "outputs": [
        {
          "output_type": "execute_result",
          "data": {
            "text/plain": [
              "   Age Sex ChestPainType  RestingBP  Cholesterol  FastingBS RestingECG  MaxHR  \\\n",
              "0   40   M           ATA        140          289          0     Normal    172   \n",
              "1   49   F           NAP        160          180          0     Normal    156   \n",
              "2   37   M           ATA        130          283          0         ST     98   \n",
              "3   48   F           ASY        138          214          0     Normal    108   \n",
              "4   54   M           NAP        150          195          0     Normal    122   \n",
              "\n",
              "  ExerciseAngina  Oldpeak ST_Slope  HeartDisease  \n",
              "0              N      0.0       Up             0  \n",
              "1              N      1.0     Flat             1  \n",
              "2              N      0.0       Up             0  \n",
              "3              Y      1.5     Flat             1  \n",
              "4              N      0.0       Up             0  "
            ],
            "text/html": [
              "\n",
              "  <div id=\"df-014794df-ea2f-4307-80b9-710689508a13\">\n",
              "    <div class=\"colab-df-container\">\n",
              "      <div>\n",
              "<style scoped>\n",
              "    .dataframe tbody tr th:only-of-type {\n",
              "        vertical-align: middle;\n",
              "    }\n",
              "\n",
              "    .dataframe tbody tr th {\n",
              "        vertical-align: top;\n",
              "    }\n",
              "\n",
              "    .dataframe thead th {\n",
              "        text-align: right;\n",
              "    }\n",
              "</style>\n",
              "<table border=\"1\" class=\"dataframe\">\n",
              "  <thead>\n",
              "    <tr style=\"text-align: right;\">\n",
              "      <th></th>\n",
              "      <th>Age</th>\n",
              "      <th>Sex</th>\n",
              "      <th>ChestPainType</th>\n",
              "      <th>RestingBP</th>\n",
              "      <th>Cholesterol</th>\n",
              "      <th>FastingBS</th>\n",
              "      <th>RestingECG</th>\n",
              "      <th>MaxHR</th>\n",
              "      <th>ExerciseAngina</th>\n",
              "      <th>Oldpeak</th>\n",
              "      <th>ST_Slope</th>\n",
              "      <th>HeartDisease</th>\n",
              "    </tr>\n",
              "  </thead>\n",
              "  <tbody>\n",
              "    <tr>\n",
              "      <th>0</th>\n",
              "      <td>40</td>\n",
              "      <td>M</td>\n",
              "      <td>ATA</td>\n",
              "      <td>140</td>\n",
              "      <td>289</td>\n",
              "      <td>0</td>\n",
              "      <td>Normal</td>\n",
              "      <td>172</td>\n",
              "      <td>N</td>\n",
              "      <td>0.0</td>\n",
              "      <td>Up</td>\n",
              "      <td>0</td>\n",
              "    </tr>\n",
              "    <tr>\n",
              "      <th>1</th>\n",
              "      <td>49</td>\n",
              "      <td>F</td>\n",
              "      <td>NAP</td>\n",
              "      <td>160</td>\n",
              "      <td>180</td>\n",
              "      <td>0</td>\n",
              "      <td>Normal</td>\n",
              "      <td>156</td>\n",
              "      <td>N</td>\n",
              "      <td>1.0</td>\n",
              "      <td>Flat</td>\n",
              "      <td>1</td>\n",
              "    </tr>\n",
              "    <tr>\n",
              "      <th>2</th>\n",
              "      <td>37</td>\n",
              "      <td>M</td>\n",
              "      <td>ATA</td>\n",
              "      <td>130</td>\n",
              "      <td>283</td>\n",
              "      <td>0</td>\n",
              "      <td>ST</td>\n",
              "      <td>98</td>\n",
              "      <td>N</td>\n",
              "      <td>0.0</td>\n",
              "      <td>Up</td>\n",
              "      <td>0</td>\n",
              "    </tr>\n",
              "    <tr>\n",
              "      <th>3</th>\n",
              "      <td>48</td>\n",
              "      <td>F</td>\n",
              "      <td>ASY</td>\n",
              "      <td>138</td>\n",
              "      <td>214</td>\n",
              "      <td>0</td>\n",
              "      <td>Normal</td>\n",
              "      <td>108</td>\n",
              "      <td>Y</td>\n",
              "      <td>1.5</td>\n",
              "      <td>Flat</td>\n",
              "      <td>1</td>\n",
              "    </tr>\n",
              "    <tr>\n",
              "      <th>4</th>\n",
              "      <td>54</td>\n",
              "      <td>M</td>\n",
              "      <td>NAP</td>\n",
              "      <td>150</td>\n",
              "      <td>195</td>\n",
              "      <td>0</td>\n",
              "      <td>Normal</td>\n",
              "      <td>122</td>\n",
              "      <td>N</td>\n",
              "      <td>0.0</td>\n",
              "      <td>Up</td>\n",
              "      <td>0</td>\n",
              "    </tr>\n",
              "  </tbody>\n",
              "</table>\n",
              "</div>\n",
              "      <button class=\"colab-df-convert\" onclick=\"convertToInteractive('df-014794df-ea2f-4307-80b9-710689508a13')\"\n",
              "              title=\"Convert this dataframe to an interactive table.\"\n",
              "              style=\"display:none;\">\n",
              "        \n",
              "  <svg xmlns=\"http://www.w3.org/2000/svg\" height=\"24px\"viewBox=\"0 0 24 24\"\n",
              "       width=\"24px\">\n",
              "    <path d=\"M0 0h24v24H0V0z\" fill=\"none\"/>\n",
              "    <path d=\"M18.56 5.44l.94 2.06.94-2.06 2.06-.94-2.06-.94-.94-2.06-.94 2.06-2.06.94zm-11 1L8.5 8.5l.94-2.06 2.06-.94-2.06-.94L8.5 2.5l-.94 2.06-2.06.94zm10 10l.94 2.06.94-2.06 2.06-.94-2.06-.94-.94-2.06-.94 2.06-2.06.94z\"/><path d=\"M17.41 7.96l-1.37-1.37c-.4-.4-.92-.59-1.43-.59-.52 0-1.04.2-1.43.59L10.3 9.45l-7.72 7.72c-.78.78-.78 2.05 0 2.83L4 21.41c.39.39.9.59 1.41.59.51 0 1.02-.2 1.41-.59l7.78-7.78 2.81-2.81c.8-.78.8-2.07 0-2.86zM5.41 20L4 18.59l7.72-7.72 1.47 1.35L5.41 20z\"/>\n",
              "  </svg>\n",
              "      </button>\n",
              "      \n",
              "  <style>\n",
              "    .colab-df-container {\n",
              "      display:flex;\n",
              "      flex-wrap:wrap;\n",
              "      gap: 12px;\n",
              "    }\n",
              "\n",
              "    .colab-df-convert {\n",
              "      background-color: #E8F0FE;\n",
              "      border: none;\n",
              "      border-radius: 50%;\n",
              "      cursor: pointer;\n",
              "      display: none;\n",
              "      fill: #1967D2;\n",
              "      height: 32px;\n",
              "      padding: 0 0 0 0;\n",
              "      width: 32px;\n",
              "    }\n",
              "\n",
              "    .colab-df-convert:hover {\n",
              "      background-color: #E2EBFA;\n",
              "      box-shadow: 0px 1px 2px rgba(60, 64, 67, 0.3), 0px 1px 3px 1px rgba(60, 64, 67, 0.15);\n",
              "      fill: #174EA6;\n",
              "    }\n",
              "\n",
              "    [theme=dark] .colab-df-convert {\n",
              "      background-color: #3B4455;\n",
              "      fill: #D2E3FC;\n",
              "    }\n",
              "\n",
              "    [theme=dark] .colab-df-convert:hover {\n",
              "      background-color: #434B5C;\n",
              "      box-shadow: 0px 1px 3px 1px rgba(0, 0, 0, 0.15);\n",
              "      filter: drop-shadow(0px 1px 2px rgba(0, 0, 0, 0.3));\n",
              "      fill: #FFFFFF;\n",
              "    }\n",
              "  </style>\n",
              "\n",
              "      <script>\n",
              "        const buttonEl =\n",
              "          document.querySelector('#df-014794df-ea2f-4307-80b9-710689508a13 button.colab-df-convert');\n",
              "        buttonEl.style.display =\n",
              "          google.colab.kernel.accessAllowed ? 'block' : 'none';\n",
              "\n",
              "        async function convertToInteractive(key) {\n",
              "          const element = document.querySelector('#df-014794df-ea2f-4307-80b9-710689508a13');\n",
              "          const dataTable =\n",
              "            await google.colab.kernel.invokeFunction('convertToInteractive',\n",
              "                                                     [key], {});\n",
              "          if (!dataTable) return;\n",
              "\n",
              "          const docLinkHtml = 'Like what you see? Visit the ' +\n",
              "            '<a target=\"_blank\" href=https://colab.research.google.com/notebooks/data_table.ipynb>data table notebook</a>'\n",
              "            + ' to learn more about interactive tables.';\n",
              "          element.innerHTML = '';\n",
              "          dataTable['output_type'] = 'display_data';\n",
              "          await google.colab.output.renderOutput(dataTable, element);\n",
              "          const docLink = document.createElement('div');\n",
              "          docLink.innerHTML = docLinkHtml;\n",
              "          element.appendChild(docLink);\n",
              "        }\n",
              "      </script>\n",
              "    </div>\n",
              "  </div>\n",
              "  "
            ]
          },
          "metadata": {},
          "execution_count": 2
        }
      ]
    },
    {
      "cell_type": "code",
      "source": [
        "#Explore the columns of the Dataset \n",
        "df.info()\n",
        "df.shape\n"
      ],
      "metadata": {
        "colab": {
          "base_uri": "https://localhost:8080/"
        },
        "id": "UdadOIPChG0B",
        "outputId": "a19efc1c-05b5-4d73-f67b-69f47d00ffcb"
      },
      "execution_count": 3,
      "outputs": [
        {
          "output_type": "stream",
          "name": "stdout",
          "text": [
            "<class 'pandas.core.frame.DataFrame'>\n",
            "RangeIndex: 918 entries, 0 to 917\n",
            "Data columns (total 12 columns):\n",
            " #   Column          Non-Null Count  Dtype  \n",
            "---  ------          --------------  -----  \n",
            " 0   Age             918 non-null    int64  \n",
            " 1   Sex             918 non-null    object \n",
            " 2   ChestPainType   918 non-null    object \n",
            " 3   RestingBP       918 non-null    int64  \n",
            " 4   Cholesterol     918 non-null    int64  \n",
            " 5   FastingBS       918 non-null    int64  \n",
            " 6   RestingECG      918 non-null    object \n",
            " 7   MaxHR           918 non-null    int64  \n",
            " 8   ExerciseAngina  918 non-null    object \n",
            " 9   Oldpeak         918 non-null    float64\n",
            " 10  ST_Slope        918 non-null    object \n",
            " 11  HeartDisease    918 non-null    int64  \n",
            "dtypes: float64(1), int64(6), object(5)\n",
            "memory usage: 86.2+ KB\n"
          ]
        },
        {
          "output_type": "execute_result",
          "data": {
            "text/plain": [
              "(918, 12)"
            ]
          },
          "metadata": {},
          "execution_count": 3
        }
      ]
    },
    {
      "cell_type": "markdown",
      "source": [
        "#####There are no duplicate columns and all the columsn contain features that can predict heart disease."
      ],
      "metadata": {
        "id": "KpaymNfcebrp"
      }
    },
    {
      "cell_type": "code",
      "source": [
        "df.info()"
      ],
      "metadata": {
        "colab": {
          "base_uri": "https://localhost:8080/"
        },
        "id": "iyt93BvcAqH-",
        "outputId": "1e12dd85-9be6-4339-b9e9-0a8b9c47f177"
      },
      "execution_count": 4,
      "outputs": [
        {
          "output_type": "stream",
          "name": "stdout",
          "text": [
            "<class 'pandas.core.frame.DataFrame'>\n",
            "RangeIndex: 918 entries, 0 to 917\n",
            "Data columns (total 12 columns):\n",
            " #   Column          Non-Null Count  Dtype  \n",
            "---  ------          --------------  -----  \n",
            " 0   Age             918 non-null    int64  \n",
            " 1   Sex             918 non-null    object \n",
            " 2   ChestPainType   918 non-null    object \n",
            " 3   RestingBP       918 non-null    int64  \n",
            " 4   Cholesterol     918 non-null    int64  \n",
            " 5   FastingBS       918 non-null    int64  \n",
            " 6   RestingECG      918 non-null    object \n",
            " 7   MaxHR           918 non-null    int64  \n",
            " 8   ExerciseAngina  918 non-null    object \n",
            " 9   Oldpeak         918 non-null    float64\n",
            " 10  ST_Slope        918 non-null    object \n",
            " 11  HeartDisease    918 non-null    int64  \n",
            "dtypes: float64(1), int64(6), object(5)\n",
            "memory usage: 86.2+ KB\n"
          ]
        }
      ]
    },
    {
      "cell_type": "code",
      "source": [
        "#Make A copy of the original dataframe for Machine Learning purposes \n",
        "ml_df = df.copy()"
      ],
      "metadata": {
        "id": "5dwoW-dzawva"
      },
      "execution_count": 5,
      "outputs": []
    },
    {
      "cell_type": "markdown",
      "source": [
        "#All the columns are related to predicting Heart Disease "
      ],
      "metadata": {
        "id": "jCROfkHfBN42"
      }
    },
    {
      "cell_type": "code",
      "source": [
        "#Check for missing values \n",
        "ml_df.isna().sum()"
      ],
      "metadata": {
        "colab": {
          "base_uri": "https://localhost:8080/"
        },
        "id": "WeH4ta8tCOF7",
        "outputId": "7c959c13-8c6b-4795-cebf-099dd97895c9"
      },
      "execution_count": 6,
      "outputs": [
        {
          "output_type": "execute_result",
          "data": {
            "text/plain": [
              "Age               0\n",
              "Sex               0\n",
              "ChestPainType     0\n",
              "RestingBP         0\n",
              "Cholesterol       0\n",
              "FastingBS         0\n",
              "RestingECG        0\n",
              "MaxHR             0\n",
              "ExerciseAngina    0\n",
              "Oldpeak           0\n",
              "ST_Slope          0\n",
              "HeartDisease      0\n",
              "dtype: int64"
            ]
          },
          "metadata": {},
          "execution_count": 6
        }
      ]
    },
    {
      "cell_type": "markdown",
      "source": [
        "There are no missing values "
      ],
      "metadata": {
        "id": "c783EEpFCmYE"
      }
    },
    {
      "cell_type": "code",
      "source": [
        "#Check for null values \n",
        "ml_df.isnull().sum()"
      ],
      "metadata": {
        "id": "mAki8IhthXs4",
        "colab": {
          "base_uri": "https://localhost:8080/"
        },
        "outputId": "ab4b202a-51a6-4849-fca6-1a95e4c6cf90"
      },
      "execution_count": 7,
      "outputs": [
        {
          "output_type": "execute_result",
          "data": {
            "text/plain": [
              "Age               0\n",
              "Sex               0\n",
              "ChestPainType     0\n",
              "RestingBP         0\n",
              "Cholesterol       0\n",
              "FastingBS         0\n",
              "RestingECG        0\n",
              "MaxHR             0\n",
              "ExerciseAngina    0\n",
              "Oldpeak           0\n",
              "ST_Slope          0\n",
              "HeartDisease      0\n",
              "dtype: int64"
            ]
          },
          "metadata": {},
          "execution_count": 7
        }
      ]
    },
    {
      "cell_type": "markdown",
      "source": [
        "There are no Null Values "
      ],
      "metadata": {
        "id": "eehF_eJdAfl3"
      }
    },
    {
      "cell_type": "code",
      "source": [
        "#Check for duplicates \n",
        "ml_df.duplicated().sum()"
      ],
      "metadata": {
        "colab": {
          "base_uri": "https://localhost:8080/"
        },
        "id": "rtizdHLTCGbs",
        "outputId": "c1fc6aee-0c55-4dab-9a45-f9740bef1e18"
      },
      "execution_count": 8,
      "outputs": [
        {
          "output_type": "execute_result",
          "data": {
            "text/plain": [
              "0"
            ]
          },
          "metadata": {},
          "execution_count": 8
        }
      ]
    },
    {
      "cell_type": "markdown",
      "source": [
        "There are no Duplicates that need to be removed "
      ],
      "metadata": {
        "id": "ENcqm-1HCZBl"
      }
    },
    {
      "cell_type": "code",
      "source": [],
      "metadata": {
        "id": "9sN4N2ewbEGY"
      },
      "execution_count": 8,
      "outputs": []
    },
    {
      "cell_type": "markdown",
      "source": [
        "#Check Value Counts of all the columns make sure there aren't any inconsistncies. "
      ],
      "metadata": {
        "id": "2CUZwuQ6Dx4z"
      }
    },
    {
      "cell_type": "code",
      "source": [
        "#Check Categorcal columns value counts for inconsistincies \n",
        "\n",
        "for col in ml_df.select_dtypes('object'):\n",
        "  print(ml_df[col].value_counts())"
      ],
      "metadata": {
        "colab": {
          "base_uri": "https://localhost:8080/"
        },
        "id": "dUkd9BTWbOdh",
        "outputId": "05c004b8-886c-4fe1-b863-a8bb36db222c"
      },
      "execution_count": 9,
      "outputs": [
        {
          "output_type": "stream",
          "name": "stdout",
          "text": [
            "M    725\n",
            "F    193\n",
            "Name: Sex, dtype: int64\n",
            "ASY    496\n",
            "NAP    203\n",
            "ATA    173\n",
            "TA      46\n",
            "Name: ChestPainType, dtype: int64\n",
            "Normal    552\n",
            "LVH       188\n",
            "ST        178\n",
            "Name: RestingECG, dtype: int64\n",
            "N    547\n",
            "Y    371\n",
            "Name: ExerciseAngina, dtype: int64\n",
            "Flat    460\n",
            "Up      395\n",
            "Down     63\n",
            "Name: ST_Slope, dtype: int64\n"
          ]
        }
      ]
    },
    {
      "cell_type": "code",
      "source": [
        "#Check Numerical columns value counts for inconsistincies \n",
        "\n",
        "for col in ml_df.select_dtypes('number'):\n",
        "  print(ml_df[col].value_counts())"
      ],
      "metadata": {
        "colab": {
          "base_uri": "https://localhost:8080/"
        },
        "id": "CsBoBu6UbGVe",
        "outputId": "f277d858-b044-4c69-b15a-e636c7759729"
      },
      "execution_count": 10,
      "outputs": [
        {
          "output_type": "stream",
          "name": "stdout",
          "text": [
            "54    51\n",
            "58    42\n",
            "55    41\n",
            "56    38\n",
            "57    38\n",
            "52    36\n",
            "51    35\n",
            "59    35\n",
            "62    35\n",
            "53    33\n",
            "60    32\n",
            "48    31\n",
            "61    31\n",
            "63    30\n",
            "50    25\n",
            "46    24\n",
            "41    24\n",
            "43    24\n",
            "64    22\n",
            "65    21\n",
            "49    21\n",
            "47    19\n",
            "44    19\n",
            "42    18\n",
            "45    18\n",
            "38    16\n",
            "67    15\n",
            "39    15\n",
            "66    13\n",
            "69    13\n",
            "40    13\n",
            "35    11\n",
            "37    11\n",
            "68    10\n",
            "34     7\n",
            "74     7\n",
            "70     7\n",
            "36     6\n",
            "71     5\n",
            "32     5\n",
            "72     4\n",
            "29     3\n",
            "75     3\n",
            "33     2\n",
            "77     2\n",
            "76     2\n",
            "31     2\n",
            "30     1\n",
            "28     1\n",
            "73     1\n",
            "Name: Age, dtype: int64\n",
            "120    132\n",
            "130    118\n",
            "140    107\n",
            "110     58\n",
            "150     55\n",
            "      ... \n",
            "185      1\n",
            "98       1\n",
            "92       1\n",
            "113      1\n",
            "164      1\n",
            "Name: RestingBP, Length: 67, dtype: int64\n",
            "0      172\n",
            "254     11\n",
            "223     10\n",
            "220     10\n",
            "230      9\n",
            "      ... \n",
            "392      1\n",
            "316      1\n",
            "153      1\n",
            "466      1\n",
            "131      1\n",
            "Name: Cholesterol, Length: 222, dtype: int64\n",
            "0    704\n",
            "1    214\n",
            "Name: FastingBS, dtype: int64\n",
            "150    43\n",
            "140    41\n",
            "120    36\n",
            "130    33\n",
            "160    25\n",
            "       ..\n",
            "63      1\n",
            "83      1\n",
            "60      1\n",
            "78      1\n",
            "202     1\n",
            "Name: MaxHR, Length: 119, dtype: int64\n",
            " 0.0    368\n",
            " 1.0     86\n",
            " 2.0     76\n",
            " 1.5     53\n",
            " 3.0     28\n",
            " 1.2     26\n",
            " 0.2     22\n",
            " 0.5     19\n",
            " 1.4     18\n",
            " 1.8     17\n",
            " 2.5     16\n",
            " 0.8     16\n",
            " 1.6     16\n",
            " 0.1     14\n",
            " 0.6     14\n",
            " 0.4     11\n",
            " 0.3     11\n",
            " 4.0      8\n",
            " 0.7      7\n",
            " 2.8      7\n",
            " 1.9      7\n",
            " 1.3      7\n",
            " 2.6      7\n",
            " 1.1      7\n",
            " 1.7      6\n",
            " 2.2      5\n",
            " 0.9      4\n",
            " 2.4      4\n",
            " 3.6      4\n",
            " 3.4      3\n",
            " 4.2      2\n",
            " 3.5      2\n",
            "-0.5      2\n",
            " 2.3      2\n",
            " 3.2      2\n",
            " 2.1      2\n",
            "-1.0      2\n",
            "-0.1      2\n",
            " 5.6      1\n",
            " 2.9      1\n",
            " 6.2      1\n",
            " 3.8      1\n",
            "-1.5      1\n",
            " 3.1      1\n",
            "-2.0      1\n",
            " 3.7      1\n",
            "-0.8      1\n",
            "-0.7      1\n",
            "-1.1      1\n",
            "-2.6      1\n",
            "-0.9      1\n",
            " 5.0      1\n",
            " 4.4      1\n",
            "Name: Oldpeak, dtype: int64\n",
            "1    508\n",
            "0    410\n",
            "Name: HeartDisease, dtype: int64\n"
          ]
        }
      ]
    },
    {
      "cell_type": "code",
      "source": [
        "ml_df.describe()"
      ],
      "metadata": {
        "colab": {
          "base_uri": "https://localhost:8080/",
          "height": 344
        },
        "id": "bnDTltBveHRm",
        "outputId": "59e5902f-62f5-4a19-afc7-447ed8d74f10"
      },
      "execution_count": 11,
      "outputs": [
        {
          "output_type": "execute_result",
          "data": {
            "text/plain": [
              "              Age   RestingBP  Cholesterol   FastingBS       MaxHR  \\\n",
              "count  918.000000  918.000000   918.000000  918.000000  918.000000   \n",
              "mean    53.510893  132.396514   198.799564    0.233115  136.809368   \n",
              "std      9.432617   18.514154   109.384145    0.423046   25.460334   \n",
              "min     28.000000    0.000000     0.000000    0.000000   60.000000   \n",
              "25%     47.000000  120.000000   173.250000    0.000000  120.000000   \n",
              "50%     54.000000  130.000000   223.000000    0.000000  138.000000   \n",
              "75%     60.000000  140.000000   267.000000    0.000000  156.000000   \n",
              "max     77.000000  200.000000   603.000000    1.000000  202.000000   \n",
              "\n",
              "          Oldpeak  HeartDisease  \n",
              "count  918.000000    918.000000  \n",
              "mean     0.887364      0.553377  \n",
              "std      1.066570      0.497414  \n",
              "min     -2.600000      0.000000  \n",
              "25%      0.000000      0.000000  \n",
              "50%      0.600000      1.000000  \n",
              "75%      1.500000      1.000000  \n",
              "max      6.200000      1.000000  "
            ],
            "text/html": [
              "\n",
              "  <div id=\"df-a540b55d-5aec-4ffe-87de-7e0f642e998c\">\n",
              "    <div class=\"colab-df-container\">\n",
              "      <div>\n",
              "<style scoped>\n",
              "    .dataframe tbody tr th:only-of-type {\n",
              "        vertical-align: middle;\n",
              "    }\n",
              "\n",
              "    .dataframe tbody tr th {\n",
              "        vertical-align: top;\n",
              "    }\n",
              "\n",
              "    .dataframe thead th {\n",
              "        text-align: right;\n",
              "    }\n",
              "</style>\n",
              "<table border=\"1\" class=\"dataframe\">\n",
              "  <thead>\n",
              "    <tr style=\"text-align: right;\">\n",
              "      <th></th>\n",
              "      <th>Age</th>\n",
              "      <th>RestingBP</th>\n",
              "      <th>Cholesterol</th>\n",
              "      <th>FastingBS</th>\n",
              "      <th>MaxHR</th>\n",
              "      <th>Oldpeak</th>\n",
              "      <th>HeartDisease</th>\n",
              "    </tr>\n",
              "  </thead>\n",
              "  <tbody>\n",
              "    <tr>\n",
              "      <th>count</th>\n",
              "      <td>918.000000</td>\n",
              "      <td>918.000000</td>\n",
              "      <td>918.000000</td>\n",
              "      <td>918.000000</td>\n",
              "      <td>918.000000</td>\n",
              "      <td>918.000000</td>\n",
              "      <td>918.000000</td>\n",
              "    </tr>\n",
              "    <tr>\n",
              "      <th>mean</th>\n",
              "      <td>53.510893</td>\n",
              "      <td>132.396514</td>\n",
              "      <td>198.799564</td>\n",
              "      <td>0.233115</td>\n",
              "      <td>136.809368</td>\n",
              "      <td>0.887364</td>\n",
              "      <td>0.553377</td>\n",
              "    </tr>\n",
              "    <tr>\n",
              "      <th>std</th>\n",
              "      <td>9.432617</td>\n",
              "      <td>18.514154</td>\n",
              "      <td>109.384145</td>\n",
              "      <td>0.423046</td>\n",
              "      <td>25.460334</td>\n",
              "      <td>1.066570</td>\n",
              "      <td>0.497414</td>\n",
              "    </tr>\n",
              "    <tr>\n",
              "      <th>min</th>\n",
              "      <td>28.000000</td>\n",
              "      <td>0.000000</td>\n",
              "      <td>0.000000</td>\n",
              "      <td>0.000000</td>\n",
              "      <td>60.000000</td>\n",
              "      <td>-2.600000</td>\n",
              "      <td>0.000000</td>\n",
              "    </tr>\n",
              "    <tr>\n",
              "      <th>25%</th>\n",
              "      <td>47.000000</td>\n",
              "      <td>120.000000</td>\n",
              "      <td>173.250000</td>\n",
              "      <td>0.000000</td>\n",
              "      <td>120.000000</td>\n",
              "      <td>0.000000</td>\n",
              "      <td>0.000000</td>\n",
              "    </tr>\n",
              "    <tr>\n",
              "      <th>50%</th>\n",
              "      <td>54.000000</td>\n",
              "      <td>130.000000</td>\n",
              "      <td>223.000000</td>\n",
              "      <td>0.000000</td>\n",
              "      <td>138.000000</td>\n",
              "      <td>0.600000</td>\n",
              "      <td>1.000000</td>\n",
              "    </tr>\n",
              "    <tr>\n",
              "      <th>75%</th>\n",
              "      <td>60.000000</td>\n",
              "      <td>140.000000</td>\n",
              "      <td>267.000000</td>\n",
              "      <td>0.000000</td>\n",
              "      <td>156.000000</td>\n",
              "      <td>1.500000</td>\n",
              "      <td>1.000000</td>\n",
              "    </tr>\n",
              "    <tr>\n",
              "      <th>max</th>\n",
              "      <td>77.000000</td>\n",
              "      <td>200.000000</td>\n",
              "      <td>603.000000</td>\n",
              "      <td>1.000000</td>\n",
              "      <td>202.000000</td>\n",
              "      <td>6.200000</td>\n",
              "      <td>1.000000</td>\n",
              "    </tr>\n",
              "  </tbody>\n",
              "</table>\n",
              "</div>\n",
              "      <button class=\"colab-df-convert\" onclick=\"convertToInteractive('df-a540b55d-5aec-4ffe-87de-7e0f642e998c')\"\n",
              "              title=\"Convert this dataframe to an interactive table.\"\n",
              "              style=\"display:none;\">\n",
              "        \n",
              "  <svg xmlns=\"http://www.w3.org/2000/svg\" height=\"24px\"viewBox=\"0 0 24 24\"\n",
              "       width=\"24px\">\n",
              "    <path d=\"M0 0h24v24H0V0z\" fill=\"none\"/>\n",
              "    <path d=\"M18.56 5.44l.94 2.06.94-2.06 2.06-.94-2.06-.94-.94-2.06-.94 2.06-2.06.94zm-11 1L8.5 8.5l.94-2.06 2.06-.94-2.06-.94L8.5 2.5l-.94 2.06-2.06.94zm10 10l.94 2.06.94-2.06 2.06-.94-2.06-.94-.94-2.06-.94 2.06-2.06.94z\"/><path d=\"M17.41 7.96l-1.37-1.37c-.4-.4-.92-.59-1.43-.59-.52 0-1.04.2-1.43.59L10.3 9.45l-7.72 7.72c-.78.78-.78 2.05 0 2.83L4 21.41c.39.39.9.59 1.41.59.51 0 1.02-.2 1.41-.59l7.78-7.78 2.81-2.81c.8-.78.8-2.07 0-2.86zM5.41 20L4 18.59l7.72-7.72 1.47 1.35L5.41 20z\"/>\n",
              "  </svg>\n",
              "      </button>\n",
              "      \n",
              "  <style>\n",
              "    .colab-df-container {\n",
              "      display:flex;\n",
              "      flex-wrap:wrap;\n",
              "      gap: 12px;\n",
              "    }\n",
              "\n",
              "    .colab-df-convert {\n",
              "      background-color: #E8F0FE;\n",
              "      border: none;\n",
              "      border-radius: 50%;\n",
              "      cursor: pointer;\n",
              "      display: none;\n",
              "      fill: #1967D2;\n",
              "      height: 32px;\n",
              "      padding: 0 0 0 0;\n",
              "      width: 32px;\n",
              "    }\n",
              "\n",
              "    .colab-df-convert:hover {\n",
              "      background-color: #E2EBFA;\n",
              "      box-shadow: 0px 1px 2px rgba(60, 64, 67, 0.3), 0px 1px 3px 1px rgba(60, 64, 67, 0.15);\n",
              "      fill: #174EA6;\n",
              "    }\n",
              "\n",
              "    [theme=dark] .colab-df-convert {\n",
              "      background-color: #3B4455;\n",
              "      fill: #D2E3FC;\n",
              "    }\n",
              "\n",
              "    [theme=dark] .colab-df-convert:hover {\n",
              "      background-color: #434B5C;\n",
              "      box-shadow: 0px 1px 3px 1px rgba(0, 0, 0, 0.15);\n",
              "      filter: drop-shadow(0px 1px 2px rgba(0, 0, 0, 0.3));\n",
              "      fill: #FFFFFF;\n",
              "    }\n",
              "  </style>\n",
              "\n",
              "      <script>\n",
              "        const buttonEl =\n",
              "          document.querySelector('#df-a540b55d-5aec-4ffe-87de-7e0f642e998c button.colab-df-convert');\n",
              "        buttonEl.style.display =\n",
              "          google.colab.kernel.accessAllowed ? 'block' : 'none';\n",
              "\n",
              "        async function convertToInteractive(key) {\n",
              "          const element = document.querySelector('#df-a540b55d-5aec-4ffe-87de-7e0f642e998c');\n",
              "          const dataTable =\n",
              "            await google.colab.kernel.invokeFunction('convertToInteractive',\n",
              "                                                     [key], {});\n",
              "          if (!dataTable) return;\n",
              "\n",
              "          const docLinkHtml = 'Like what you see? Visit the ' +\n",
              "            '<a target=\"_blank\" href=https://colab.research.google.com/notebooks/data_table.ipynb>data table notebook</a>'\n",
              "            + ' to learn more about interactive tables.';\n",
              "          element.innerHTML = '';\n",
              "          dataTable['output_type'] = 'display_data';\n",
              "          await google.colab.output.renderOutput(dataTable, element);\n",
              "          const docLink = document.createElement('div');\n",
              "          docLink.innerHTML = docLinkHtml;\n",
              "          element.appendChild(docLink);\n",
              "        }\n",
              "      </script>\n",
              "    </div>\n",
              "  </div>\n",
              "  "
            ]
          },
          "metadata": {},
          "execution_count": 11
        }
      ]
    },
    {
      "cell_type": "code",
      "source": [
        "#Check Age Column Value Counts \n",
        "ml_df['Age'].value_counts()"
      ],
      "metadata": {
        "colab": {
          "base_uri": "https://localhost:8080/"
        },
        "id": "QU8Ame5EAdCJ",
        "outputId": "484bb0be-d3ba-4271-e71b-8bf09c52f7ec"
      },
      "execution_count": 12,
      "outputs": [
        {
          "output_type": "execute_result",
          "data": {
            "text/plain": [
              "54    51\n",
              "58    42\n",
              "55    41\n",
              "56    38\n",
              "57    38\n",
              "52    36\n",
              "51    35\n",
              "59    35\n",
              "62    35\n",
              "53    33\n",
              "60    32\n",
              "48    31\n",
              "61    31\n",
              "63    30\n",
              "50    25\n",
              "46    24\n",
              "41    24\n",
              "43    24\n",
              "64    22\n",
              "65    21\n",
              "49    21\n",
              "47    19\n",
              "44    19\n",
              "42    18\n",
              "45    18\n",
              "38    16\n",
              "67    15\n",
              "39    15\n",
              "66    13\n",
              "69    13\n",
              "40    13\n",
              "35    11\n",
              "37    11\n",
              "68    10\n",
              "34     7\n",
              "74     7\n",
              "70     7\n",
              "36     6\n",
              "71     5\n",
              "32     5\n",
              "72     4\n",
              "29     3\n",
              "75     3\n",
              "33     2\n",
              "77     2\n",
              "76     2\n",
              "31     2\n",
              "30     1\n",
              "28     1\n",
              "73     1\n",
              "Name: Age, dtype: int64"
            ]
          },
          "metadata": {},
          "execution_count": 12
        }
      ]
    },
    {
      "cell_type": "markdown",
      "source": [
        "Values look normal for age"
      ],
      "metadata": {
        "id": "DgO85OelCzIj"
      }
    },
    {
      "cell_type": "code",
      "source": [
        "#Lets Explore the age range of the patients \n",
        "ml_df['Age'].hist();"
      ],
      "metadata": {
        "colab": {
          "base_uri": "https://localhost:8080/",
          "height": 265
        },
        "id": "-5m_2ZCkCwAm",
        "outputId": "137ecbaf-bff7-4fec-f8e1-fb32bfbe3d75"
      },
      "execution_count": 13,
      "outputs": [
        {
          "output_type": "display_data",
          "data": {
            "text/plain": [
              "<Figure size 432x288 with 1 Axes>"
            ],
            "image/png": "[encoded data removed]"
          },
          "metadata": {
            "needs_background": "light"
          }
        }
      ]
    },
    {
      "cell_type": "markdown",
      "source": [
        "The range of patients is from 40 years old to 60 years old\n"
      ],
      "metadata": {
        "id": "EVvvU6nzIijm"
      }
    },
    {
      "cell_type": "code",
      "source": [
        "#Check Sex Column Value Counts \n",
        "\n",
        "ml_df['Sex'].value_counts()"
      ],
      "metadata": {
        "colab": {
          "base_uri": "https://localhost:8080/"
        },
        "id": "UhRrP-oiDKi1",
        "outputId": "05fa9ae4-ba5f-4d58-c3a3-a36481cb2e4c"
      },
      "execution_count": 14,
      "outputs": [
        {
          "output_type": "execute_result",
          "data": {
            "text/plain": [
              "M    725\n",
              "F    193\n",
              "Name: Sex, dtype: int64"
            ]
          },
          "metadata": {},
          "execution_count": 14
        }
      ]
    },
    {
      "cell_type": "markdown",
      "source": [
        "The Value counts of sex look normal\n",
        "\n",
        "> Indented block\n",
        "\n"
      ],
      "metadata": {
        "id": "80GdGuy9Dc4x"
      }
    },
    {
      "cell_type": "code",
      "source": [
        "sns.countplot(x=\"Sex\", data=ml_df);\n"
      ],
      "metadata": {
        "colab": {
          "base_uri": "https://localhost:8080/",
          "height": 279
        },
        "id": "X3FqAc7kp7uc",
        "outputId": "902e6e16-d1dc-4df4-c205-b0a5a6a39ad5"
      },
      "execution_count": 15,
      "outputs": [
        {
          "output_type": "display_data",
          "data": {
            "text/plain": [
              "<Figure size 432x288 with 1 Axes>"
            ],
            "image/png": "[encoded data removed]"
          },
          "metadata": {
            "needs_background": "light"
          }
        }
      ]
    },
    {
      "cell_type": "code",
      "source": [
        "#Locate Columns with 0 as avalue for cholesterol\n",
        "ml_df[ml_df['Cholesterol'] == 0]"
      ],
      "metadata": {
        "colab": {
          "base_uri": "https://localhost:8080/",
          "height": 488
        },
        "id": "dsoYMohiEmfm",
        "outputId": "2fc44948-7639-4788-c67d-27cb5a084d0e"
      },
      "execution_count": 16,
      "outputs": [
        {
          "output_type": "execute_result",
          "data": {
            "text/plain": [
              "     Age Sex ChestPainType  RestingBP  Cholesterol  FastingBS RestingECG  \\\n",
              "293   65   M           ASY        115            0          0     Normal   \n",
              "294   32   M            TA         95            0          1     Normal   \n",
              "295   61   M           ASY        105            0          1     Normal   \n",
              "296   50   M           ASY        145            0          1     Normal   \n",
              "297   57   M           ASY        110            0          1         ST   \n",
              "..   ...  ..           ...        ...          ...        ...        ...   \n",
              "514   43   M           ASY        122            0          0     Normal   \n",
              "515   63   M           NAP        130            0          1         ST   \n",
              "518   48   M           NAP        102            0          1         ST   \n",
              "535   56   M           ASY        130            0          0        LVH   \n",
              "536   62   M           NAP        133            0          1         ST   \n",
              "\n",
              "     MaxHR ExerciseAngina  Oldpeak ST_Slope  HeartDisease  \n",
              "293     93              Y      0.0     Flat             1  \n",
              "294    127              N      0.7       Up             1  \n",
              "295    110              Y      1.5       Up             1  \n",
              "296    139              Y      0.7     Flat             1  \n",
              "297    131              Y      1.4       Up             1  \n",
              "..     ...            ...      ...      ...           ...  \n",
              "514    120              N      0.5       Up             1  \n",
              "515    160              N      3.0     Flat             0  \n",
              "518    110              Y      1.0     Down             1  \n",
              "535    122              Y      1.0     Flat             1  \n",
              "536    119              Y      1.2     Flat             1  \n",
              "\n",
              "[172 rows x 12 columns]"
            ],
            "text/html": [
              "\n",
              "  <div id=\"df-45551b90-4245-4d50-89b8-034cf41e462a\">\n",
              "    <div class=\"colab-df-container\">\n",
              "      <div>\n",
              "<style scoped>\n",
              "    .dataframe tbody tr th:only-of-type {\n",
              "        vertical-align: middle;\n",
              "    }\n",
              "\n",
              "    .dataframe tbody tr th {\n",
              "        vertical-align: top;\n",
              "    }\n",
              "\n",
              "    .dataframe thead th {\n",
              "        text-align: right;\n",
              "    }\n",
              "</style>\n",
              "<table border=\"1\" class=\"dataframe\">\n",
              "  <thead>\n",
              "    <tr style=\"text-align: right;\">\n",
              "      <th></th>\n",
              "      <th>Age</th>\n",
              "      <th>Sex</th>\n",
              "      <th>ChestPainType</th>\n",
              "      <th>RestingBP</th>\n",
              "      <th>Cholesterol</th>\n",
              "      <th>FastingBS</th>\n",
              "      <th>RestingECG</th>\n",
              "      <th>MaxHR</th>\n",
              "      <th>ExerciseAngina</th>\n",
              "      <th>Oldpeak</th>\n",
              "      <th>ST_Slope</th>\n",
              "      <th>HeartDisease</th>\n",
              "    </tr>\n",
              "  </thead>\n",
              "  <tbody>\n",
              "    <tr>\n",
              "      <th>293</th>\n",
              "      <td>65</td>\n",
              "      <td>M</td>\n",
              "      <td>ASY</td>\n",
              "      <td>115</td>\n",
              "      <td>0</td>\n",
              "      <td>0</td>\n",
              "      <td>Normal</td>\n",
              "      <td>93</td>\n",
              "      <td>Y</td>\n",
              "      <td>0.0</td>\n",
              "      <td>Flat</td>\n",
              "      <td>1</td>\n",
              "    </tr>\n",
              "    <tr>\n",
              "      <th>294</th>\n",
              "      <td>32</td>\n",
              "      <td>M</td>\n",
              "      <td>TA</td>\n",
              "      <td>95</td>\n",
              "      <td>0</td>\n",
              "      <td>1</td>\n",
              "      <td>Normal</td>\n",
              "      <td>127</td>\n",
              "      <td>N</td>\n",
              "      <td>0.7</td>\n",
              "      <td>Up</td>\n",
              "      <td>1</td>\n",
              "    </tr>\n",
              "    <tr>\n",
              "      <th>295</th>\n",
              "      <td>61</td>\n",
              "      <td>M</td>\n",
              "      <td>ASY</td>\n",
              "      <td>105</td>\n",
              "      <td>0</td>\n",
              "      <td>1</td>\n",
              "      <td>Normal</td>\n",
              "      <td>110</td>\n",
              "      <td>Y</td>\n",
              "      <td>1.5</td>\n",
              "      <td>Up</td>\n",
              "      <td>1</td>\n",
              "    </tr>\n",
              "    <tr>\n",
              "      <th>296</th>\n",
              "      <td>50</td>\n",
              "      <td>M</td>\n",
              "      <td>ASY</td>\n",
              "      <td>145</td>\n",
              "      <td>0</td>\n",
              "      <td>1</td>\n",
              "      <td>Normal</td>\n",
              "      <td>139</td>\n",
              "      <td>Y</td>\n",
              "      <td>0.7</td>\n",
              "      <td>Flat</td>\n",
              "      <td>1</td>\n",
              "    </tr>\n",
              "    <tr>\n",
              "      <th>297</th>\n",
              "      <td>57</td>\n",
              "      <td>M</td>\n",
              "      <td>ASY</td>\n",
              "      <td>110</td>\n",
              "      <td>0</td>\n",
              "      <td>1</td>\n",
              "      <td>ST</td>\n",
              "      <td>131</td>\n",
              "      <td>Y</td>\n",
              "      <td>1.4</td>\n",
              "      <td>Up</td>\n",
              "      <td>1</td>\n",
              "    </tr>\n",
              "    <tr>\n",
              "      <th>...</th>\n",
              "      <td>...</td>\n",
              "      <td>...</td>\n",
              "      <td>...</td>\n",
              "      <td>...</td>\n",
              "      <td>...</td>\n",
              "      <td>...</td>\n",
              "      <td>...</td>\n",
              "      <td>...</td>\n",
              "      <td>...</td>\n",
              "      <td>...</td>\n",
              "      <td>...</td>\n",
              "      <td>...</td>\n",
              "    </tr>\n",
              "    <tr>\n",
              "      <th>514</th>\n",
              "      <td>43</td>\n",
              "      <td>M</td>\n",
              "      <td>ASY</td>\n",
              "      <td>122</td>\n",
              "      <td>0</td>\n",
              "      <td>0</td>\n",
              "      <td>Normal</td>\n",
              "      <td>120</td>\n",
              "      <td>N</td>\n",
              "      <td>0.5</td>\n",
              "      <td>Up</td>\n",
              "      <td>1</td>\n",
              "    </tr>\n",
              "    <tr>\n",
              "      <th>515</th>\n",
              "      <td>63</td>\n",
              "      <td>M</td>\n",
              "      <td>NAP</td>\n",
              "      <td>130</td>\n",
              "      <td>0</td>\n",
              "      <td>1</td>\n",
              "      <td>ST</td>\n",
              "      <td>160</td>\n",
              "      <td>N</td>\n",
              "      <td>3.0</td>\n",
              "      <td>Flat</td>\n",
              "      <td>0</td>\n",
              "    </tr>\n",
              "    <tr>\n",
              "      <th>518</th>\n",
              "      <td>48</td>\n",
              "      <td>M</td>\n",
              "      <td>NAP</td>\n",
              "      <td>102</td>\n",
              "      <td>0</td>\n",
              "      <td>1</td>\n",
              "      <td>ST</td>\n",
              "      <td>110</td>\n",
              "      <td>Y</td>\n",
              "      <td>1.0</td>\n",
              "      <td>Down</td>\n",
              "      <td>1</td>\n",
              "    </tr>\n",
              "    <tr>\n",
              "      <th>535</th>\n",
              "      <td>56</td>\n",
              "      <td>M</td>\n",
              "      <td>ASY</td>\n",
              "      <td>130</td>\n",
              "      <td>0</td>\n",
              "      <td>0</td>\n",
              "      <td>LVH</td>\n",
              "      <td>122</td>\n",
              "      <td>Y</td>\n",
              "      <td>1.0</td>\n",
              "      <td>Flat</td>\n",
              "      <td>1</td>\n",
              "    </tr>\n",
              "    <tr>\n",
              "      <th>536</th>\n",
              "      <td>62</td>\n",
              "      <td>M</td>\n",
              "      <td>NAP</td>\n",
              "      <td>133</td>\n",
              "      <td>0</td>\n",
              "      <td>1</td>\n",
              "      <td>ST</td>\n",
              "      <td>119</td>\n",
              "      <td>Y</td>\n",
              "      <td>1.2</td>\n",
              "      <td>Flat</td>\n",
              "      <td>1</td>\n",
              "    </tr>\n",
              "  </tbody>\n",
              "</table>\n",
              "<p>172 rows × 12 columns</p>\n",
              "</div>\n",
              "      <button class=\"colab-df-convert\" onclick=\"convertToInteractive('df-45551b90-4245-4d50-89b8-034cf41e462a')\"\n",
              "              title=\"Convert this dataframe to an interactive table.\"\n",
              "              style=\"display:none;\">\n",
              "        \n",
              "  <svg xmlns=\"http://www.w3.org/2000/svg\" height=\"24px\"viewBox=\"0 0 24 24\"\n",
              "       width=\"24px\">\n",
              "    <path d=\"M0 0h24v24H0V0z\" fill=\"none\"/>\n",
              "    <path d=\"M18.56 5.44l.94 2.06.94-2.06 2.06-.94-2.06-.94-.94-2.06-.94 2.06-2.06.94zm-11 1L8.5 8.5l.94-2.06 2.06-.94-2.06-.94L8.5 2.5l-.94 2.06-2.06.94zm10 10l.94 2.06.94-2.06 2.06-.94-2.06-.94-.94-2.06-.94 2.06-2.06.94z\"/><path d=\"M17.41 7.96l-1.37-1.37c-.4-.4-.92-.59-1.43-.59-.52 0-1.04.2-1.43.59L10.3 9.45l-7.72 7.72c-.78.78-.78 2.05 0 2.83L4 21.41c.39.39.9.59 1.41.59.51 0 1.02-.2 1.41-.59l7.78-7.78 2.81-2.81c.8-.78.8-2.07 0-2.86zM5.41 20L4 18.59l7.72-7.72 1.47 1.35L5.41 20z\"/>\n",
              "  </svg>\n",
              "      </button>\n",
              "      \n",
              "  <style>\n",
              "    .colab-df-container {\n",
              "      display:flex;\n",
              "      flex-wrap:wrap;\n",
              "      gap: 12px;\n",
              "    }\n",
              "\n",
              "    .colab-df-convert {\n",
              "      background-color: #E8F0FE;\n",
              "      border: none;\n",
              "      border-radius: 50%;\n",
              "      cursor: pointer;\n",
              "      display: none;\n",
              "      fill: #1967D2;\n",
              "      height: 32px;\n",
              "      padding: 0 0 0 0;\n",
              "      width: 32px;\n",
              "    }\n",
              "\n",
              "    .colab-df-convert:hover {\n",
              "      background-color: #E2EBFA;\n",
              "      box-shadow: 0px 1px 2px rgba(60, 64, 67, 0.3), 0px 1px 3px 1px rgba(60, 64, 67, 0.15);\n",
              "      fill: #174EA6;\n",
              "    }\n",
              "\n",
              "    [theme=dark] .colab-df-convert {\n",
              "      background-color: #3B4455;\n",
              "      fill: #D2E3FC;\n",
              "    }\n",
              "\n",
              "    [theme=dark] .colab-df-convert:hover {\n",
              "      background-color: #434B5C;\n",
              "      box-shadow: 0px 1px 3px 1px rgba(0, 0, 0, 0.15);\n",
              "      filter: drop-shadow(0px 1px 2px rgba(0, 0, 0, 0.3));\n",
              "      fill: #FFFFFF;\n",
              "    }\n",
              "  </style>\n",
              "\n",
              "      <script>\n",
              "        const buttonEl =\n",
              "          document.querySelector('#df-45551b90-4245-4d50-89b8-034cf41e462a button.colab-df-convert');\n",
              "        buttonEl.style.display =\n",
              "          google.colab.kernel.accessAllowed ? 'block' : 'none';\n",
              "\n",
              "        async function convertToInteractive(key) {\n",
              "          const element = document.querySelector('#df-45551b90-4245-4d50-89b8-034cf41e462a');\n",
              "          const dataTable =\n",
              "            await google.colab.kernel.invokeFunction('convertToInteractive',\n",
              "                                                     [key], {});\n",
              "          if (!dataTable) return;\n",
              "\n",
              "          const docLinkHtml = 'Like what you see? Visit the ' +\n",
              "            '<a target=\"_blank\" href=https://colab.research.google.com/notebooks/data_table.ipynb>data table notebook</a>'\n",
              "            + ' to learn more about interactive tables.';\n",
              "          element.innerHTML = '';\n",
              "          dataTable['output_type'] = 'display_data';\n",
              "          await google.colab.output.renderOutput(dataTable, element);\n",
              "          const docLink = document.createElement('div');\n",
              "          docLink.innerHTML = docLinkHtml;\n",
              "          element.appendChild(docLink);\n",
              "        }\n",
              "      </script>\n",
              "    </div>\n",
              "  </div>\n",
              "  "
            ]
          },
          "metadata": {},
          "execution_count": 16
        }
      ]
    },
    {
      "cell_type": "code",
      "source": [
        "ml_df['Cholesterol']"
      ],
      "metadata": {
        "colab": {
          "base_uri": "https://localhost:8080/"
        },
        "id": "f01FoSO_ofcv",
        "outputId": "1e8fe228-2060-4364-f492-3f62d1ca972d"
      },
      "execution_count": 17,
      "outputs": [
        {
          "output_type": "execute_result",
          "data": {
            "text/plain": [
              "0      289\n",
              "1      180\n",
              "2      283\n",
              "3      214\n",
              "4      195\n",
              "      ... \n",
              "913    264\n",
              "914    193\n",
              "915    131\n",
              "916    236\n",
              "917    175\n",
              "Name: Cholesterol, Length: 918, dtype: int64"
            ]
          },
          "metadata": {},
          "execution_count": 17
        }
      ]
    },
    {
      "cell_type": "markdown",
      "source": [
        "There are 172 rows in choloesterol column that have 0 as a value.   "
      ],
      "metadata": {
        "id": "2AzGM5ncF-HK"
      }
    },
    {
      "cell_type": "code",
      "source": [
        "ml_df['Cholesterol'].hist();"
      ],
      "metadata": {
        "colab": {
          "base_uri": "https://localhost:8080/",
          "height": 265
        },
        "id": "Wlde6BSoq1r-",
        "outputId": "52957f15-eabd-401e-ae00-8b52ddc5a5c4"
      },
      "execution_count": 18,
      "outputs": [
        {
          "output_type": "display_data",
          "data": {
            "text/plain": [
              "<Figure size 432x288 with 1 Axes>"
            ],
            "image/png": "[encoded data removed]"
          },
          "metadata": {
            "needs_background": "light"
          }
        }
      ]
    },
    {
      "cell_type": "markdown",
      "source": [
        "### We have a siginifact amount of values labelled as 0 this is likely a data entry error or as a place holder for missing data. \n",
        "\n",
        "**I will need to impute the data with mean value of the column in order to replace all of the 172,  0s with meaningful values**"
      ],
      "metadata": {
        "id": "sE2A2_sBq7tS"
      }
    },
    {
      "cell_type": "code",
      "source": [
        "df['FastingBS'].value_counts()"
      ],
      "metadata": {
        "colab": {
          "base_uri": "https://localhost:8080/"
        },
        "id": "YFv5yYH4FUPH",
        "outputId": "bb3e7ab1-554b-4cb4-de4b-cca4a4884238"
      },
      "execution_count": 19,
      "outputs": [
        {
          "output_type": "execute_result",
          "data": {
            "text/plain": [
              "0    704\n",
              "1    214\n",
              "Name: FastingBS, dtype: int64"
            ]
          },
          "metadata": {},
          "execution_count": 19
        }
      ]
    },
    {
      "cell_type": "markdown",
      "source": [
        "Values for Fasting BS look normal"
      ],
      "metadata": {
        "id": "79G_n9MbGgTb"
      }
    },
    {
      "cell_type": "code",
      "source": [
        "sns.countplot(x=\"FastingBS\", data=ml_df);\n"
      ],
      "metadata": {
        "colab": {
          "base_uri": "https://localhost:8080/",
          "height": 279
        },
        "id": "1KaNO6SVqBSD",
        "outputId": "8d826113-fe92-4963-b607-5d12d97de17b"
      },
      "execution_count": 20,
      "outputs": [
        {
          "output_type": "display_data",
          "data": {
            "text/plain": [
              "<Figure size 432x288 with 1 Axes>"
            ],
            "image/png": "[encoded data removed]"
          },
          "metadata": {
            "needs_background": "light"
          }
        }
      ]
    },
    {
      "cell_type": "code",
      "source": [
        "ml_df['RestingECG'].value_counts()"
      ],
      "metadata": {
        "colab": {
          "base_uri": "https://localhost:8080/"
        },
        "id": "tiiMxnBYGflg",
        "outputId": "54643053-0665-4846-ac82-dbdabf96999c"
      },
      "execution_count": 21,
      "outputs": [
        {
          "output_type": "execute_result",
          "data": {
            "text/plain": [
              "Normal    552\n",
              "LVH       188\n",
              "ST        178\n",
              "Name: RestingECG, dtype: int64"
            ]
          },
          "metadata": {},
          "execution_count": 21
        }
      ]
    },
    {
      "cell_type": "markdown",
      "source": [
        "Values loook normal for this column "
      ],
      "metadata": {
        "id": "4vhm_wSVGpca"
      }
    },
    {
      "cell_type": "code",
      "source": [
        "sns.countplot(x=\"RestingECG\", data=ml_df);\n"
      ],
      "metadata": {
        "colab": {
          "base_uri": "https://localhost:8080/",
          "height": 279
        },
        "id": "E0FuTKGpqFYe",
        "outputId": "5906253e-6844-43ec-f3f5-07b33b0936d9"
      },
      "execution_count": 22,
      "outputs": [
        {
          "output_type": "display_data",
          "data": {
            "text/plain": [
              "<Figure size 432x288 with 1 Axes>"
            ],
            "image/png": "[encoded data removed]"
          },
          "metadata": {
            "needs_background": "light"
          }
        }
      ]
    },
    {
      "cell_type": "code",
      "source": [
        "df['MaxHR'].value_counts()"
      ],
      "metadata": {
        "colab": {
          "base_uri": "https://localhost:8080/"
        },
        "id": "SHZSsKEKGojI",
        "outputId": "ca68ca69-e283-4e08-822e-9d430a5f89c4"
      },
      "execution_count": 23,
      "outputs": [
        {
          "output_type": "execute_result",
          "data": {
            "text/plain": [
              "150    43\n",
              "140    41\n",
              "120    36\n",
              "130    33\n",
              "160    25\n",
              "       ..\n",
              "63      1\n",
              "83      1\n",
              "60      1\n",
              "78      1\n",
              "202     1\n",
              "Name: MaxHR, Length: 119, dtype: int64"
            ]
          },
          "metadata": {},
          "execution_count": 23
        }
      ]
    },
    {
      "cell_type": "markdown",
      "source": [
        "Values look within the normal range"
      ],
      "metadata": {
        "id": "171gI7WwG12Q"
      }
    },
    {
      "cell_type": "code",
      "source": [
        "sns.kdeplot(ml_df['MaxHR'])"
      ],
      "metadata": {
        "colab": {
          "base_uri": "https://localhost:8080/",
          "height": 297
        },
        "id": "CSEq_oMFsCyw",
        "outputId": "78b79a1d-dbcc-4618-aa98-a15b14190532"
      },
      "execution_count": 24,
      "outputs": [
        {
          "output_type": "execute_result",
          "data": {
            "text/plain": [
              "<matplotlib.axes._subplots.AxesSubplot at 0x7f7ff33e0290>"
            ]
          },
          "metadata": {},
          "execution_count": 24
        },
        {
          "output_type": "display_data",
          "data": {
            "text/plain": [
              "<Figure size 432x288 with 1 Axes>"
            ],
            "image/png": "[encoded data removed]"
          },
          "metadata": {
            "needs_background": "light"
          }
        }
      ]
    },
    {
      "cell_type": "code",
      "source": [
        "df['ExerciseAngina'].value_counts()"
      ],
      "metadata": {
        "colab": {
          "base_uri": "https://localhost:8080/"
        },
        "id": "zqFtkPLvG0uk",
        "outputId": "e46b0f3e-351b-4dbb-d6dc-b018957426cc"
      },
      "execution_count": 25,
      "outputs": [
        {
          "output_type": "execute_result",
          "data": {
            "text/plain": [
              "N    547\n",
              "Y    371\n",
              "Name: ExerciseAngina, dtype: int64"
            ]
          },
          "metadata": {},
          "execution_count": 25
        }
      ]
    },
    {
      "cell_type": "markdown",
      "source": [
        "Values look normal "
      ],
      "metadata": {
        "id": "Jpi1qJaUHAwT"
      }
    },
    {
      "cell_type": "code",
      "source": [
        "sns.countplot(x=\"ExerciseAngina\", data=ml_df);\n"
      ],
      "metadata": {
        "colab": {
          "base_uri": "https://localhost:8080/",
          "height": 279
        },
        "id": "SrbxiUbSqPIm",
        "outputId": "fb6eae2a-5cb3-41eb-a2d5-2b6ce2b393b0"
      },
      "execution_count": 26,
      "outputs": [
        {
          "output_type": "display_data",
          "data": {
            "text/plain": [
              "<Figure size 432x288 with 1 Axes>"
            ],
            "image/png": "[encoded data removed]"
          },
          "metadata": {
            "needs_background": "light"
          }
        }
      ]
    },
    {
      "cell_type": "code",
      "source": [
        "df['Oldpeak'].value_counts()"
      ],
      "metadata": {
        "colab": {
          "base_uri": "https://localhost:8080/"
        },
        "id": "5dbsMNutG_63",
        "outputId": "42ce53c6-52ec-48b6-f7ba-ead18c00efda"
      },
      "execution_count": 27,
      "outputs": [
        {
          "output_type": "execute_result",
          "data": {
            "text/plain": [
              " 0.0    368\n",
              " 1.0     86\n",
              " 2.0     76\n",
              " 1.5     53\n",
              " 3.0     28\n",
              " 1.2     26\n",
              " 0.2     22\n",
              " 0.5     19\n",
              " 1.4     18\n",
              " 1.8     17\n",
              " 2.5     16\n",
              " 0.8     16\n",
              " 1.6     16\n",
              " 0.1     14\n",
              " 0.6     14\n",
              " 0.4     11\n",
              " 0.3     11\n",
              " 4.0      8\n",
              " 0.7      7\n",
              " 2.8      7\n",
              " 1.9      7\n",
              " 1.3      7\n",
              " 2.6      7\n",
              " 1.1      7\n",
              " 1.7      6\n",
              " 2.2      5\n",
              " 0.9      4\n",
              " 2.4      4\n",
              " 3.6      4\n",
              " 3.4      3\n",
              " 4.2      2\n",
              " 3.5      2\n",
              "-0.5      2\n",
              " 2.3      2\n",
              " 3.2      2\n",
              " 2.1      2\n",
              "-1.0      2\n",
              "-0.1      2\n",
              " 5.6      1\n",
              " 2.9      1\n",
              " 6.2      1\n",
              " 3.8      1\n",
              "-1.5      1\n",
              " 3.1      1\n",
              "-2.0      1\n",
              " 3.7      1\n",
              "-0.8      1\n",
              "-0.7      1\n",
              "-1.1      1\n",
              "-2.6      1\n",
              "-0.9      1\n",
              " 5.0      1\n",
              " 4.4      1\n",
              "Name: Oldpeak, dtype: int64"
            ]
          },
          "metadata": {},
          "execution_count": 27
        }
      ]
    },
    {
      "cell_type": "code",
      "source": [
        "ml_df['Oldpeak'].plot(kind='box')\n",
        "plt.title('Oldpeak')\n"
      ],
      "metadata": {
        "colab": {
          "base_uri": "https://localhost:8080/",
          "height": 298
        },
        "id": "QQqEi0vZIWh6",
        "outputId": "41db9185-1bc8-4cdb-9992-eb4b858cb933"
      },
      "execution_count": 28,
      "outputs": [
        {
          "output_type": "execute_result",
          "data": {
            "text/plain": [
              "Text(0.5, 1.0, 'Oldpeak')"
            ]
          },
          "metadata": {},
          "execution_count": 28
        },
        {
          "output_type": "display_data",
          "data": {
            "text/plain": [
              "<Figure size 432x288 with 1 Axes>"
            ],
            "image/png": "[encoded data removed]"
          },
          "metadata": {
            "needs_background": "light"
          }
        }
      ]
    },
    {
      "cell_type": "code",
      "source": [
        "sns.kdeplot(ml_df['Oldpeak'])"
      ],
      "metadata": {
        "colab": {
          "base_uri": "https://localhost:8080/",
          "height": 296
        },
        "id": "BIaH2xD5tZTr",
        "outputId": "6225dc96-0895-408a-b803-e37d28578da9"
      },
      "execution_count": 29,
      "outputs": [
        {
          "output_type": "execute_result",
          "data": {
            "text/plain": [
              "<matplotlib.axes._subplots.AxesSubplot at 0x7f7ff32d2190>"
            ]
          },
          "metadata": {},
          "execution_count": 29
        },
        {
          "output_type": "display_data",
          "data": {
            "text/plain": [
              "<Figure size 432x288 with 1 Axes>"
            ],
            "image/png": "[encoded data removed]"
          },
          "metadata": {
            "needs_background": "light"
          }
        }
      ]
    },
    {
      "cell_type": "markdown",
      "source": [
        "**We can see by the data's distribution that it is not a normal distribution** "
      ],
      "metadata": {
        "id": "KmwD0Xggtdos"
      }
    },
    {
      "cell_type": "markdown",
      "source": [
        "#Identify Outliers \n",
        "-2 is an Outlier that is clearly skewing our results. "
      ],
      "metadata": {
        "id": "rKeA8S9HIr3t"
      }
    },
    {
      "cell_type": "markdown",
      "source": [
        "Values look normal"
      ],
      "metadata": {
        "id": "NORCPGrBHk3E"
      }
    },
    {
      "cell_type": "code",
      "source": [
        "df['ST_Slope'].value_counts()"
      ],
      "metadata": {
        "colab": {
          "base_uri": "https://localhost:8080/"
        },
        "id": "OnsVzFY8HJDZ",
        "outputId": "d80f39d9-dd8f-4e05-96f1-4f7ce9c2a022"
      },
      "execution_count": 30,
      "outputs": [
        {
          "output_type": "execute_result",
          "data": {
            "text/plain": [
              "Flat    460\n",
              "Up      395\n",
              "Down     63\n",
              "Name: ST_Slope, dtype: int64"
            ]
          },
          "metadata": {},
          "execution_count": 30
        }
      ]
    },
    {
      "cell_type": "markdown",
      "source": [
        "Values look normal "
      ],
      "metadata": {
        "id": "WHIonqg1HsNz"
      }
    },
    {
      "cell_type": "code",
      "source": [
        "sns.countplot(x=\"ST_Slope\", data=ml_df);\n"
      ],
      "metadata": {
        "colab": {
          "base_uri": "https://localhost:8080/",
          "height": 280
        },
        "id": "cQj_JspuH-U5",
        "outputId": "f237cd1f-a36e-4a17-89d7-4fafe7f24359"
      },
      "execution_count": 31,
      "outputs": [
        {
          "output_type": "display_data",
          "data": {
            "text/plain": [
              "<Figure size 432x288 with 1 Axes>"
            ],
            "image/png": "[encoded data removed]"
          },
          "metadata": {
            "needs_background": "light"
          }
        }
      ]
    },
    {
      "cell_type": "markdown",
      "source": [
        "Distribution of the ST SLope "
      ],
      "metadata": {
        "id": "sr16UXFtIwsw"
      }
    },
    {
      "cell_type": "code",
      "source": [
        "df['HeartDisease'].value_counts()"
      ],
      "metadata": {
        "colab": {
          "base_uri": "https://localhost:8080/"
        },
        "id": "RnCB7mvvHqxC",
        "outputId": "cd188cfc-6660-4eab-bf8d-0095446b67f8"
      },
      "execution_count": 32,
      "outputs": [
        {
          "output_type": "execute_result",
          "data": {
            "text/plain": [
              "1    508\n",
              "0    410\n",
              "Name: HeartDisease, dtype: int64"
            ]
          },
          "metadata": {},
          "execution_count": 32
        }
      ]
    },
    {
      "cell_type": "markdown",
      "source": [
        "Values look normal "
      ],
      "metadata": {
        "id": "aQO86g9vHz1m"
      }
    },
    {
      "cell_type": "code",
      "source": [
        "df['HeartDisease'].value_counts().plot(kind = 'bar')"
      ],
      "metadata": {
        "colab": {
          "base_uri": "https://localhost:8080/",
          "height": 279
        },
        "id": "3lVnKd-mIEpl",
        "outputId": "a377b2a7-90f3-43fc-9b71-e933ce43a235"
      },
      "execution_count": 33,
      "outputs": [
        {
          "output_type": "execute_result",
          "data": {
            "text/plain": [
              "<matplotlib.axes._subplots.AxesSubplot at 0x7f7ff317e0d0>"
            ]
          },
          "metadata": {},
          "execution_count": 33
        },
        {
          "output_type": "display_data",
          "data": {
            "text/plain": [
              "<Figure size 432x288 with 1 Axes>"
            ],
            "image/png": "[encoded data removed]"
          },
          "metadata": {
            "needs_background": "light"
          }
        }
      ]
    },
    {
      "cell_type": "markdown",
      "source": [
        "Proprtion of those with Heart Disease."
      ],
      "metadata": {
        "id": "JxZ-tO61I0u8"
      }
    },
    {
      "cell_type": "code",
      "source": [
        "sns.countplot(x=\"HeartDisease\", data=ml_df);\n"
      ],
      "metadata": {
        "colab": {
          "base_uri": "https://localhost:8080/",
          "height": 279
        },
        "id": "kqu5yVeqqZiv",
        "outputId": "99af2612-4bc7-465e-ddb0-cc1c1e0e8674"
      },
      "execution_count": 34,
      "outputs": [
        {
          "output_type": "display_data",
          "data": {
            "text/plain": [
              "<Figure size 432x288 with 1 Axes>"
            ],
            "image/png": "[encoded data removed]"
          },
          "metadata": {
            "needs_background": "light"
          }
        }
      ]
    },
    {
      "cell_type": "code",
      "source": [
        "ml_df.info()"
      ],
      "metadata": {
        "colab": {
          "base_uri": "https://localhost:8080/"
        },
        "id": "JK8SdqMvKUWU",
        "outputId": "b13dd8bf-35f9-47a6-e32c-5fe643b6218a"
      },
      "execution_count": 35,
      "outputs": [
        {
          "output_type": "stream",
          "name": "stdout",
          "text": [
            "<class 'pandas.core.frame.DataFrame'>\n",
            "RangeIndex: 918 entries, 0 to 917\n",
            "Data columns (total 12 columns):\n",
            " #   Column          Non-Null Count  Dtype  \n",
            "---  ------          --------------  -----  \n",
            " 0   Age             918 non-null    int64  \n",
            " 1   Sex             918 non-null    object \n",
            " 2   ChestPainType   918 non-null    object \n",
            " 3   RestingBP       918 non-null    int64  \n",
            " 4   Cholesterol     918 non-null    int64  \n",
            " 5   FastingBS       918 non-null    int64  \n",
            " 6   RestingECG      918 non-null    object \n",
            " 7   MaxHR           918 non-null    int64  \n",
            " 8   ExerciseAngina  918 non-null    object \n",
            " 9   Oldpeak         918 non-null    float64\n",
            " 10  ST_Slope        918 non-null    object \n",
            " 11  HeartDisease    918 non-null    int64  \n",
            "dtypes: float64(1), int64(6), object(5)\n",
            "memory usage: 86.2+ KB\n"
          ]
        }
      ]
    },
    {
      "cell_type": "markdown",
      "source": [
        "#Convert 0s to Nan so the simple imputer can impute it properly. "
      ],
      "metadata": {
        "id": "_t5h99LxNhaR"
      }
    },
    {
      "cell_type": "code",
      "source": [
        "ml_df['Cholesterol'] = ml_df['Cholesterol'].replace(0, np.nan)"
      ],
      "metadata": {
        "id": "vOWJS2waIpGM"
      },
      "execution_count": 36,
      "outputs": []
    },
    {
      "cell_type": "markdown",
      "source": [
        "###Select Target + Features Matrix"
      ],
      "metadata": {
        "id": "kMLKhgVpvL48"
      }
    },
    {
      "cell_type": "code",
      "source": [
        "X= ml_df.drop(columns='HeartDisease')\n",
        "y = ml_df['HeartDisease']"
      ],
      "metadata": {
        "id": "50yEFku5Hypa"
      },
      "execution_count": 37,
      "outputs": []
    },
    {
      "cell_type": "markdown",
      "source": [
        "###Instantiate Train Test Split"
      ],
      "metadata": {
        "id": "oI8JVDBZvRi6"
      }
    },
    {
      "cell_type": "code",
      "source": [
        "X_train, X_test, y_train, y_test = train_test_split(X, y, random_state=42)"
      ],
      "metadata": {
        "id": "wtY1kvJqvVMN"
      },
      "execution_count": 38,
      "outputs": []
    },
    {
      "cell_type": "markdown",
      "source": [
        "#Prepare Preprocessing tool "
      ],
      "metadata": {
        "id": "LsBMp2P7KUOO"
      }
    },
    {
      "cell_type": "code",
      "source": [
        "#instantiate a scaler \n",
        "scaler = StandardScaler()"
      ],
      "metadata": {
        "id": "y38GFC2UJje2"
      },
      "execution_count": 39,
      "outputs": []
    },
    {
      "cell_type": "code",
      "source": [
        "# instantiate One Hot Encoder \n",
        "encoder = OneHotEncoder(handle_unknown ='ignore')"
      ],
      "metadata": {
        "id": "dEsZuhfEKLTa"
      },
      "execution_count": 40,
      "outputs": []
    },
    {
      "cell_type": "code",
      "source": [
        "#Make a Categorical column selector \n",
        "#Make a selector for categorical columns \n",
        "num_selector = make_column_selector(dtype_include ='number')"
      ],
      "metadata": {
        "id": "9Dy_0xH7LXj_"
      },
      "execution_count": 41,
      "outputs": []
    },
    {
      "cell_type": "code",
      "source": [
        "# instantiate a Simple imputer with the most frequent strategy \n",
        "mean_imputer = SimpleImputer(strategy='mean')"
      ],
      "metadata": {
        "id": "g24ppbjdKmVp"
      },
      "execution_count": 42,
      "outputs": []
    },
    {
      "cell_type": "code",
      "source": [
        "#Make a pipeline for numerical data \n",
        "num_processor = make_pipeline(mean_imputer, scaler)\n"
      ],
      "metadata": {
        "id": "NBJDOMJQKQ95"
      },
      "execution_count": 43,
      "outputs": []
    },
    {
      "cell_type": "code",
      "source": [
        "#There are no missing values for numerical data but I will scale the numerical columns \n",
        "#num_processor = make_pipeline(scaler)"
      ],
      "metadata": {
        "id": "YeAQrwt1LG5r"
      },
      "execution_count": 46,
      "outputs": []
    },
    {
      "cell_type": "code",
      "source": [
        "#make a tuple for categorical data \n",
        "num_tuple = (num_processor, num_selector )"
      ],
      "metadata": {
        "id": "M12jitL3K-vu"
      },
      "execution_count": 44,
      "outputs": []
    },
    {
      "cell_type": "markdown",
      "source": [
        "####Make a Preprocessing tool"
      ],
      "metadata": {
        "id": "WOapc8wFvV5u"
      }
    },
    {
      "cell_type": "code",
      "source": [
        "column_transformer = make_column_transformer( num_tuple, remainder='passthrough')"
      ],
      "metadata": {
        "id": "c7Deuo4Tvdgu"
      },
      "execution_count": 45,
      "outputs": []
    },
    {
      "cell_type": "markdown",
      "source": [
        "###Impute the 0s in the column Cholsterol"
      ],
      "metadata": {
        "id": "apBUEHabvhQ3"
      }
    },
    {
      "cell_type": "code",
      "source": [
        "#Fit to train data \n",
        "column_transformer.fit(X_train)"
      ],
      "metadata": {
        "colab": {
          "base_uri": "https://localhost:8080/"
        },
        "id": "zd5jHf-OLxDq",
        "outputId": "a3ea4468-c23d-4a77-eda8-60b281791572"
      },
      "execution_count": 46,
      "outputs": [
        {
          "output_type": "execute_result",
          "data": {
            "text/plain": [
              "ColumnTransformer(remainder='passthrough',\n",
              "                  transformers=[('pipeline',\n",
              "                                 Pipeline(steps=[('simpleimputer',\n",
              "                                                  SimpleImputer()),\n",
              "                                                 ('standardscaler',\n",
              "                                                  StandardScaler())]),\n",
              "                                 <sklearn.compose._column_transformer.make_column_selector object at 0x7f7ff253d190>)])"
            ]
          },
          "metadata": {},
          "execution_count": 46
        }
      ]
    },
    {
      "cell_type": "code",
      "source": [
        "ml_df['Cholesterol'].value_counts()"
      ],
      "metadata": {
        "id": "jX1mXmhmvndb",
        "colab": {
          "base_uri": "https://localhost:8080/"
        },
        "outputId": "15e76496-3bf6-44ed-efb1-18bf66ef0e61"
      },
      "execution_count": 47,
      "outputs": [
        {
          "output_type": "execute_result",
          "data": {
            "text/plain": [
              "254.0    11\n",
              "223.0    10\n",
              "220.0    10\n",
              "216.0     9\n",
              "230.0     9\n",
              "         ..\n",
              "347.0     1\n",
              "365.0     1\n",
              "412.0     1\n",
              "491.0     1\n",
              "131.0     1\n",
              "Name: Cholesterol, Length: 221, dtype: int64"
            ]
          },
          "metadata": {},
          "execution_count": 47
        }
      ]
    },
    {
      "cell_type": "code",
      "source": [],
      "metadata": {
        "id": "R-sKoLM3MAaJ"
      },
      "execution_count": null,
      "outputs": []
    }
  ]
}